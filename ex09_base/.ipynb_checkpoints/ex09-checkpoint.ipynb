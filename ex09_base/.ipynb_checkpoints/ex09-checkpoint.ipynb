{
 "cells": [
  {
   "cell_type": "markdown",
   "metadata": {},
   "source": [
    "# <center> <img src=\"figs/LogoUFSCar.jpg\" alt=\"Logo UFScar\" width=\"110\" align=\"left\"/>  <br/> <center>Universidade Federal de São Carlos (UFSCar)<br/><font size=\"4\"> Departamento de Computação, campus Sorocaba</center></font>\n",
    "</p>\n",
    "\n",
    "<br/>\n",
    "<font size=\"4\"><center><b>Disciplina: Aprendizado de Máquina</b></center></font>\n",
    "  \n",
    "<font size=\"3\"><center>Prof. Dr. Tiago A. Almeida</center></font>\n",
    "\n",
    "<br/>\n",
    "<br/>\n",
    "\n",
    "<center><i><b>\n",
    "Atenção: não são autorizadas cópias, divulgações ou qualquer tipo de uso deste material sem o consentimento prévio dos autores.\n",
    "</center></i></b>"
   ]
  },
  {
   "cell_type": "markdown",
   "metadata": {},
   "source": [
    "# <center> Exercício - Análise de Componentes Principais </center>\n",
    "\n",
    "Neste exercício, você implementará o método de análise de componentes principais (PCA) e verá como ele pode ser eficientemente empregado para realizar a redução automática da dimensionalidade da base de dados. Antes de começar este exercício, é recomendável que você revise os conceitos apresentados em aula.\n",
    "\n",
    "Instruções\n",
    "----------\n",
    "\n",
    "Este arquivo contém o código que auxiliará no desenvolvimento do exercício. Você precisará completar as seguintes funções:\n",
    "\n",
    "* `pca()`\n",
    "* `projetarDados()`\n",
    "* `reconstruirDados()`\n",
    "\n",
    "Você não poderá criar nenhuma outra função. Apenas altere as rotinas fornecidas."
   ]
  },
  {
   "cell_type": "markdown",
   "metadata": {},
   "source": [
    "## Parte 1: Visualização dos dados\n",
    "\n",
    "Inicialmente, será usada uma base de dados pequena para facilitar a visualização. \n",
    "\n",
    "Vamos carregar a base de dados. "
   ]
  },
  {
   "cell_type": "code",
   "execution_count": 2,
   "metadata": {
    "scrolled": true
   },
   "outputs": [
    {
     "name": "stdout",
     "output_type": "stream",
     "text": [
      "Dados carregados com sucesso!\n"
     ]
    }
   ],
   "source": [
    "# -*- coding: utf-8 -*-\n",
    "\n",
    "import numpy as np # biblioteca usada para trabalhar com vetores e matrizes\n",
    "import pandas as pd # biblioteca usada para trabalhar com dataframes\n",
    "\n",
    "# importa o arquivo e guarda em um dataframe do Pandas\n",
    "df_dataset = pd.read_csv( 'exDados.csv', sep=',', index_col=None)\n",
    "\n",
    "print('Dados carregados com sucesso!')"
   ]
  },
  {
   "cell_type": "markdown",
   "metadata": {},
   "source": [
    "Agora, vamos dar uma olhada nas 6 primeiras amostras da base de dados."
   ]
  },
  {
   "cell_type": "code",
   "execution_count": 3,
   "metadata": {},
   "outputs": [
    {
     "data": {
      "text/html": [
       "<div>\n",
       "<style scoped>\n",
       "    .dataframe tbody tr th:only-of-type {\n",
       "        vertical-align: middle;\n",
       "    }\n",
       "\n",
       "    .dataframe tbody tr th {\n",
       "        vertical-align: top;\n",
       "    }\n",
       "\n",
       "    .dataframe thead th {\n",
       "        text-align: right;\n",
       "    }\n",
       "</style>\n",
       "<table border=\"1\" class=\"dataframe\">\n",
       "  <thead>\n",
       "    <tr style=\"text-align: right;\">\n",
       "      <th></th>\n",
       "      <th>f1</th>\n",
       "      <th>f2</th>\n",
       "    </tr>\n",
       "  </thead>\n",
       "  <tbody>\n",
       "    <tr>\n",
       "      <th>0</th>\n",
       "      <td>3.381563</td>\n",
       "      <td>3.389113</td>\n",
       "    </tr>\n",
       "    <tr>\n",
       "      <th>1</th>\n",
       "      <td>4.527875</td>\n",
       "      <td>5.854178</td>\n",
       "    </tr>\n",
       "    <tr>\n",
       "      <th>2</th>\n",
       "      <td>2.655682</td>\n",
       "      <td>4.411995</td>\n",
       "    </tr>\n",
       "    <tr>\n",
       "      <th>3</th>\n",
       "      <td>2.765235</td>\n",
       "      <td>3.715414</td>\n",
       "    </tr>\n",
       "    <tr>\n",
       "      <th>4</th>\n",
       "      <td>2.846560</td>\n",
       "      <td>4.175506</td>\n",
       "    </tr>\n",
       "    <tr>\n",
       "      <th>5</th>\n",
       "      <td>3.890672</td>\n",
       "      <td>6.488381</td>\n",
       "    </tr>\n",
       "  </tbody>\n",
       "</table>\n",
       "</div>"
      ],
      "text/plain": [
       "         f1        f2\n",
       "0  3.381563  3.389113\n",
       "1  4.527875  5.854178\n",
       "2  2.655682  4.411995\n",
       "3  2.765235  3.715414\n",
       "4  2.846560  4.175506\n",
       "5  3.890672  6.488381"
      ]
     },
     "metadata": {},
     "output_type": "display_data"
    }
   ],
   "source": [
    "# vamos usar a função display para imprimir o dataframe \n",
    "# também poderíamos ter usado a função print(df_dataset.head(n=6))\n",
    "display(df_dataset.head(n=6))"
   ]
  },
  {
   "cell_type": "markdown",
   "metadata": {},
   "source": [
    "Vamos guardar os dados dentro de uma matriz."
   ]
  },
  {
   "cell_type": "code",
   "execution_count": 4,
   "metadata": {},
   "outputs": [
    {
     "data": {
      "text/plain": [
       "'X:'"
      ]
     },
     "metadata": {},
     "output_type": "display_data"
    },
    {
     "data": {
      "text/plain": [
       "array([[ 3.38156267,  3.38911268],\n",
       "       [ 4.52787538,  5.8541781 ],\n",
       "       [ 2.65568187,  4.41199472],\n",
       "       [ 2.76523467,  3.71541365],\n",
       "       [ 2.84656011,  4.17550645]])"
      ]
     },
     "metadata": {},
     "output_type": "display_data"
    }
   ],
   "source": [
    "# pega os valores das n-1 primeiras colunas e guarda em uma matrix X\n",
    "X = df_dataset.values \n",
    "\n",
    "# imprime as 5 primeiras linhas da matriz X\n",
    "display('X:', X[0:5,:])"
   ]
  },
  {
   "cell_type": "markdown",
   "metadata": {},
   "source": [
    "Vamos plotar os dados."
   ]
  },
  {
   "cell_type": "code",
   "execution_count": 5,
   "metadata": {},
   "outputs": [
    {
     "data": {
      "text/plain": [
       "<matplotlib.figure.Figure at 0x7f5a31633518>"
      ]
     },
     "metadata": {},
     "output_type": "display_data"
    }
   ],
   "source": [
    "import matplotlib.pyplot as plt\n",
    "\n",
    "# define o tamanho da figura \n",
    "plt.figure(figsize=(10,10))\n",
    "    \n",
    "# plota os dados\n",
    "plt.scatter( X[:,0], X[:,1], marker='o', label = 'Dados', color='blue', s=90) \n",
    "\n",
    "# mostra o gráfico\n",
    "plt.show()"
   ]
  },
  {
   "cell_type": "markdown",
   "metadata": {},
   "source": [
    "## Parte 2: Análise de Componentes Principais\n",
    "\n",
    "Nesta parte do exercício, você precisará implementar o PCA. Porém, é importante primeiro normalizar os dados. No *script* abaixo, a função `normalizar()` será usada para isso, fazendo com que todos as atributos passem a ter média zero e desvio padrão igual à um."
   ]
  },
  {
   "cell_type": "code",
   "execution_count": 6,
   "metadata": {},
   "outputs": [
    {
     "name": "stdout",
     "output_type": "stream",
     "text": [
      "Normalização realizada com sucesso!\n"
     ]
    }
   ],
   "source": [
    "def normalizar(X):\n",
    "    \"\"\"\n",
    "    Normaliza os atributos em X\n",
    "    \"\"\"\n",
    "    \n",
    "    m, n = X.shape # m = qtde de objetos e n = qtde de atributos\n",
    "    \n",
    "    # incializa as variaves de saida\n",
    "    X_norm = np.zeros( (m,n) )\n",
    "    \n",
    "    mu = np.mean(X, axis=0)\n",
    "    sigma = np.std(X, axis=0, ddof=1)\n",
    "    \n",
    "    for i in range(m):\n",
    "        X_norm[i,:] = (X[i,:]-mu) / sigma\n",
    "        \n",
    "    return X_norm, mu, sigma\n",
    "\n",
    "# chama a função para normalizar X\n",
    "X_norm, media, desvio = normalizar(X)\n",
    "\n",
    "print('Normalização realizada com sucesso!')"
   ]
  },
  {
   "cell_type": "markdown",
   "metadata": {},
   "source": [
    "O primeiro passo para a implementação do PCA é calcular a matriz covariância dos dados que é dada por:\n",
    "\n",
    "$$\\Sigma = \\frac{1}{m}X^{T}X$$\n",
    "\n",
    "sendo $X$ a matriz de dados com amostras em linhas, e $m$ a quantidade de exemplos. Note que $\\Sigma$ é uma matriz $n \\times n$.\n",
    "\n",
    "Após o cálculo da matriz de covariância, você pode usar a decomposição em valores singulares (SVD - *singular value decomposition*) para computar os componentes principais. No Python, o SVD pode ser calculado pela função `numpy.linalg.svd`. Essa função retornará os autovetores $U_1, U_2, \\ldots, U_n$, que correspondem aos componentes principais de $\\Sigma$. Ela retornará também os autovalores de $\\Sigma$.\n",
    "\n",
    "Agora, você deverá completar a função que executa o PCA. "
   ]
  },
  {
   "cell_type": "code",
   "execution_count": 14,
   "metadata": {},
   "outputs": [
    {
     "name": "stdout",
     "output_type": "stream",
     "text": [
      "(2, 2)\n",
      "(2,)\n",
      "\n",
      "Primeiro auvetor:\n",
      " U[:,0] = [-0.707107, -0.707107] \n",
      "\n",
      "(Se o PCA estiver correto, o primeiro auvetor deverá ser igual a [-0.707107, -0.707107])\n",
      "\n"
     ]
    }
   ],
   "source": [
    "def pca(X):\n",
    "    \"\"\"\n",
    "    Executa a analise de componentes principais na base de dados X\n",
    "\n",
    "    Retorna os autovetores U e os autovalores em S.\n",
    "    \"\"\"\n",
    "\n",
    "    m, n = X.shape # m = qtde de objetos e n = qtde de atributos\n",
    "    \n",
    "    # incializa as variaves de saida\n",
    "    U = np.zeros( [n,n] )\n",
    "    S = np.zeros( n )    \n",
    "    \n",
    "    ########################## COMPLETE O CÓDIGO AQUI  ########################\n",
    "    #  Instrucoes: você precisa calcular a matriz de covariancia de X e,\n",
    "    #                posteriormente, usar a função svd para calcular os \n",
    "    #                autovetores e autovalores da matriz encontrada.\n",
    "    #\n",
    "    #                A funcao devera retornar os autovalores e autovetores\n",
    "    #                calculados pela funcao np.linalg.svd  \n",
    "\n",
    "    \n",
    "    \n",
    "    c = (1/m) * (X.T.dot(X))\n",
    "\n",
    "    U, S , vh = np.linalg.svd(c)\n",
    "    \n",
    "    \n",
    "    \n",
    "    \n",
    "    \n",
    "    \n",
    "    \n",
    "    \n",
    "    \n",
    "    ########################################################################## \n",
    "\n",
    "    return U, S \n",
    "\n",
    "\n",
    "resultados = np.zeros( X.shape[0] )\n",
    "\n",
    "# executa o PCA\n",
    "U, S = pca(X_norm)\n",
    "\n",
    "print(U.shape)\n",
    "print(S.shape)\n",
    "\n",
    "print('\\nPrimeiro auvetor:\\n U[:,0] = [%1.6f, %1.6f] \\n' %(U[0,0], U[1,0]))\n",
    "print('(Se o PCA estiver correto, o primeiro auvetor deverá ser igual a [-0.707107, -0.707107])\\n')"
   ]
  },
  {
   "cell_type": "markdown",
   "metadata": {},
   "source": [
    "Agora, vamos plotar os autovetores centralizados. As linhas indicam as direções de máxima variação na base de dados."
   ]
  },
  {
   "cell_type": "code",
   "execution_count": 15,
   "metadata": {},
   "outputs": [
    {
     "data": {
      "image/png": "[encoded data removed]",
      "text/plain": [
       "<matplotlib.figure.Figure at 0x7f5a2eb38ba8>"
      ]
     },
     "metadata": {
      "needs_background": "light"
     },
     "output_type": "display_data"
    }
   ],
   "source": [
    "# define o tamanho da figura \n",
    "plt.figure(figsize=(10,10))\n",
    "    \n",
    "# plota os dados\n",
    "plt.scatter( X[:,0], X[:,1], marker='o', label = 'Dados', color='blue', s=90) \n",
    "\n",
    "media2 = media + 1.5 * S[0] * U[:,0]\n",
    "plt.plot( [media[0],media2[0]], [media[1],media2[1]], color='red') \n",
    "\n",
    "media3 = media + 1.5 * S[1] * U[:,1]\n",
    "plt.plot( [media[0],media3[0]], [media[1],media3[1]], color='red') \n",
    "\n",
    "# mostra o gráfico\n",
    "plt.show()"
   ]
  },
  {
   "cell_type": "markdown",
   "metadata": {},
   "source": [
    "## Parte 3: Redução de Dimensionalidade\n",
    "\n",
    "Após computar os componentes principais, você pode usá-los para reduzir a dimensão dos atributos do conjunto de dados, projetando cada exemplo em um espaço dimensional menor, $x^{(i)} \\rightarrow z^{(i)}$ (por exemplo, projetando os dados de 2D para 1D). Nesta parte do exercício, você precisará usar os autovetores computados pelo PCA e projetar as amostras em um espaço de uma dimensão.\n",
    "\n",
    "Na prática, se você estivesse usando um algoritmo de aprendizado de máquina, você poderia usar os dados projetados ao invés dos dados originais. Com isso, você pode treinar seu modelo mais rapidamente, pois haveria bem menos dimensões nos dados de entrada.\n",
    "\n",
    "Complete a função `projetarDados()` para realizar a projeção dos dados usando os primeiros $k$ autovetores."
   ]
  },
  {
   "cell_type": "code",
   "execution_count": 35,
   "metadata": {},
   "outputs": [
    {
     "name": "stdout",
     "output_type": "stream",
     "text": [
      "Projeção da primeira amostra: 1.481274\n",
      "\n",
      "(É esperado um valor aproximadamente igual a 1.481)\n",
      "\n",
      "\n"
     ]
    }
   ],
   "source": [
    "def projetarDados(X, U, K): \n",
    "    \"\"\"\n",
    "    Computa a representacao reduzida pela projecao usando os K\n",
    "    primeiros autovetores\n",
    "    \n",
    "    Calcula a projecao dos dados X em um espaco\n",
    "    de dimensao reduzida gerado pelas primeiras K colunas de\n",
    "    U. A funcao retorna os exemplos projetados em Z.\n",
    "    \"\"\"\n",
    "\n",
    "    # incializa a variavel de saida\n",
    "    Z = np.zeros( [X.shape[0],K] )   \n",
    "\n",
    "    ########################## COMPLETE O CÓDIGO AQUI  ########################\n",
    "    #  Instrucoes: você precisa computar a projecao dos dados usando apenas os \n",
    "    #                primeiros K autovetores em U. \n",
    "    # \n",
    "    \n",
    "    #print(X)\n",
    "    U, S  = pca(X)\n",
    "    \n",
    "    \n",
    "    #print(U,S)\n",
    "    \n",
    "    \n",
    "    \n",
    "    \n",
    "    Z = X.dot(U[:,:K])\n",
    "    \n",
    "    \n",
    "    #print(Z)\n",
    "    \n",
    "    \n",
    "    \n",
    "    \n",
    "    ##########################################################################\n",
    "\n",
    "    return Z\n",
    "\n",
    "# projeta os dadados na dimensao K\n",
    "K = 1;\n",
    "Z = projetarDados(X_norm, U, K)\n",
    "\n",
    "print('Projeção da primeira amostra: %1.6f\\n' %Z[0]);\n",
    "print('(É esperado um valor aproximadamente igual a 1.481)\\n\\n');"
   ]
  },
  {
   "cell_type": "markdown",
   "metadata": {},
   "source": [
    "Após projetar os dados em um espaço dimensional menor, é possível recuperar uma aproximação projetando-os de volta para o espaço original. Agora, sua tarefa é completar a função `reconstruirDados()` para projetar cada amostra de $Z$ de volta para o espaço original e retornar a aproximação reconstruída em $X_{rec}$."
   ]
  },
  {
   "cell_type": "code",
   "execution_count": 36,
   "metadata": {},
   "outputs": [
    {
     "name": "stdout",
     "output_type": "stream",
     "text": [
      "(2, 2)\n",
      "(50, 1)\n",
      "Aproximação da primeira amostra: [-1.047419, -1.047419]\n",
      "\n",
      "(É esperado um valor aproximadamente igual a [-1.047 -1.047])\n",
      "\n",
      "\n"
     ]
    }
   ],
   "source": [
    "def reconstruirDados(Z, U, K): \n",
    "    \"\"\"\n",
    "    Calcula uma aproximacao do dado original usando o dado projetado\n",
    "    \n",
    "    Computa uma aproximacao do dado original que foi reduzido para \n",
    "    K dimensoes. A funcao retorna a reconstrucao aproximada em X_rec\n",
    "    \"\"\"\n",
    "\n",
    "    # incializa a variavel de saida\n",
    "    X_rec = np.zeros( [Z.shape[0], U.shape[0]] ) \n",
    "\n",
    "    ########################## COMPLETE O CÓDIGO AQUI  ########################\n",
    "    #  Instrucoes: você precisa computar a aproximacao do dado pela projecao \n",
    "    #                reversa no espaco original usando os K primeiros \n",
    "    #                autovetores em U. \n",
    "    # \n",
    "    \n",
    "\n",
    "    X_rec = Z.dot(U[:,:K].T)\n",
    "    \n",
    "    \n",
    "    \n",
    "    \n",
    "    \n",
    "    \n",
    "    \n",
    "    \n",
    "    \n",
    "    \n",
    "    \n",
    "    \n",
    "    \n",
    "    \n",
    "    \n",
    "    ########################################################################## \n",
    "\n",
    "    return X_rec\n",
    "\n",
    "# projeta os dadados na dimensao K\n",
    "K = 1;\n",
    "X_rec  = reconstruirDados(Z, U, K)\n",
    "\n",
    "print('Aproximação da primeira amostra: [%1.6f, %1.6f]\\n' %(X_rec[0,0],X_rec[0,1]))\n",
    "print('(É esperado um valor aproximadamente igual a [-1.047 -1.047])\\n\\n');"
   ]
  },
  {
   "cell_type": "markdown",
   "metadata": {},
   "source": [
    "A seguir, vamos observar a diferença entre os dados originais normalizados e os dados reconstruídos após o PCA."
   ]
  },
  {
   "cell_type": "code",
   "execution_count": null,
   "metadata": {
    "scrolled": true
   },
   "outputs": [],
   "source": [
    "# define o tamanho da figura \n",
    "plt.figure(figsize=(10,10))\n",
    "    \n",
    "# plota os dados originais normalizados\n",
    "plt.scatter( X_norm[:,0], X_norm[:,1], marker='o', color='blue', s=90) \n",
    "\n",
    "# plota linhas conectando os pontos reconstruídos aos pontos originais\n",
    "plt.scatter( X_rec[:,0], X_rec[:,1], marker='o', color='red', s=90)\n",
    "for i in range( X_norm.shape[0] ):\n",
    "    plt.plot( [X_norm[i,0],X_rec[i,0]], [X_norm[i,1],X_rec[i,1]], linestyle='--', color='black') \n",
    "\n",
    "# mostra o gráfico\n",
    "plt.show()"
   ]
  },
  {
   "cell_type": "markdown",
   "metadata": {},
   "source": [
    "No gráfico acima, os círculos azuis representam os dados originais normalizados, enquanto que os círculos vermelhos indicam os dados reconstruídos após o PCA. A projeção efetivamente só mantém as informações na direção dada por $U_1$."
   ]
  },
  {
   "cell_type": "markdown",
   "metadata": {},
   "source": [
    "Para analisar numericamente a diferença entre os dados, vamos imprimir a tabela de valores originais, normalizados, projetados e reconstruídos."
   ]
  },
  {
   "cell_type": "code",
   "execution_count": null,
   "metadata": {},
   "outputs": [],
   "source": [
    "# impressao de tabela de valores originais, normalizados, projetados e reconstruidos\n",
    "print('i \\t Original (X) \\t\\t Normalizado (X_norm) \\t Projetado (Z) \\t Reconstruido (X_rec)\\n')\n",
    "print('- \\t ------------ \\t\\t -------------------- \\t ------------- \\t --------------------\\n')\n",
    "for i in range( X.shape[0]):\n",
    "    print('%d \\t [%f %f] \\t [%f %f] \\t [%f] \\t [%f %f]\\n' %(i, X[i,0], X[i,1], X_norm[i,0], X_norm[i,1], Z[i], X_rec[i,0], X_rec[i,1]))   "
   ]
  },
  {
   "cell_type": "markdown",
   "metadata": {},
   "source": [
    "## Parte 4: Aplicação do PCA em um conjunto de imagens faciais\n",
    "\n",
    "Nesta parte do exercício, o PCA será aplicado para comprimir amostras de imagens faciais armazenadas no arquivo `exFaces.csv`. O conjunto de dados contém 5.000 amostras representadas por imagens $32 \\times 32$ em escala de cinza (vetor linha com 1.024 atributos). \n",
    "\n",
    "\n",
    "Vamos carregar essa base de dados e guardar os dados dentro de uma matriz."
   ]
  },
  {
   "cell_type": "code",
   "execution_count": null,
   "metadata": {},
   "outputs": [],
   "source": [
    "# importa o arquivo e guarda em um dataframe do Pandas\n",
    "df_dataset2 = pd.read_csv( 'exFaces.csv', sep=',', header=None)\n",
    "\n",
    "# pega os valores das n-1 primeiras colunas e guarda em uma matrix X\n",
    "X2 = df_dataset2.values \n",
    "\n",
    "print('Dados carregados com sucesso!')"
   ]
  },
  {
   "cell_type": "markdown",
   "metadata": {},
   "source": [
    "Vamos exibir as primeiras 100 faces da base."
   ]
  },
  {
   "cell_type": "code",
   "execution_count": null,
   "metadata": {},
   "outputs": [],
   "source": [
    "import matplotlib.pyplot as plt\n",
    "\n",
    "def visualizaImagem(X):\n",
    "    \n",
    "    example_width = int(round(np.sqrt(X.shape[1])) )\n",
    "\n",
    "    # calcula numero de linhas e colunas\n",
    "    m, n = X.shape\n",
    "    example_height = int(n / example_width)\n",
    "\n",
    "    # calcula numero de itens que serao exibidos\n",
    "    display_rows = int(np.floor(np.sqrt(m)))\n",
    "    display_cols = int(np.ceil(m / display_rows))\n",
    "\n",
    "    fig, axs = plt.subplots(display_rows,display_cols, figsize=(8, 8))\n",
    "                        \n",
    "    for ax, i in zip(axs.ravel(), range( X.shape[0] )):   \n",
    "        new_X = np.reshape( np.ravel(X[i,:]), (example_width, example_height) )\n",
    "\n",
    "        ax.imshow(new_X.T, cmap='gray'); \n",
    "        ax.axis('off')\n",
    "\n",
    "    \n",
    "    plt.show()\n",
    "    \n",
    "\n",
    "visualizaImagem(X2[0:100,:])"
   ]
  },
  {
   "cell_type": "markdown",
   "metadata": {},
   "source": [
    "## Parte 5: Componentes Principais usando o PCA\n",
    "\n",
    "No *script* abaixo, os dados serão normalizados e o PCA será executado. É importante observar que cada componente principal em $U$ (cada linha) é um vetor de comprimento $n$ (sendo que para o conjunto de dados faciais, $n = 1024$). Esses componentes podem ser visualizados pela remodelação de cada um deles usando a matriz $32 \\times 32$, correspondente aos pixels do conjunto de dados original. Em seguida, os primeiros 36 componentes principais são apresentados. Neste ponto, é possível alterar o código para exibir mais componentes principais para ver como eles capturam os principais traços de cada imagem."
   ]
  },
  {
   "cell_type": "code",
   "execution_count": null,
   "metadata": {},
   "outputs": [],
   "source": [
    "# normaliza os dados\n",
    "X2_norm, media2, desvio2 = normalizar(X2)\n",
    "\n",
    "# executa o PCA\n",
    "U2, S2 = pca(X2_norm)\n",
    "\n",
    "# plota os 36 componentes principais\n",
    "visualizaImagem( U2[:,0:36].T )"
   ]
  },
  {
   "cell_type": "markdown",
   "metadata": {},
   "source": [
    "## Parte 6: Redução de dimensionalidade das imagens\n",
    "\n",
    "Uma vez que os componentes principais foram computados, eles podem ser empregados para reduzir a dimensionalidade do conjunto de dados. Isso permite que algum algoritmo de aprendizado seja aplicado sob uma entrada de tamanho menor (por exemplo, 100 dimensões) ao invés da original de 1024 dimensões.\n",
    "\n",
    "No *script* a seguir, os dados originais serão projetados sobre os 100 primeiros componentes principais. Portanto, cada imagem passará a ser representada por um vetor $z^{(i)} \\in \\Re^{100}$."
   ]
  },
  {
   "cell_type": "code",
   "execution_count": null,
   "metadata": {},
   "outputs": [],
   "source": [
    "# projeta os dadados na dimensao K=100\n",
    "K2 = 100;\n",
    "Z2  = projetarDados(X2_norm, U2, K2)\n",
    "\n",
    "print('Dados projetados (Z) tem tamanho igual a: ')\n",
    "print(Z2.shape)"
   ]
  },
  {
   "cell_type": "markdown",
   "metadata": {},
   "source": [
    "## Parte 7: Visualização das imagens reconstruídas após o PCA\n",
    "\n",
    "No *script* abaixo, para visualizar o efeito da redução da dimensionalidade, uma reconstrução aproximada dos dados será realizada e as imagens  originais e projetadas serão exibidas lado a lado. A partir da reconstrução, é possível observar que a estrutura geral e aparência (contornos) das faces são mantidas, enquanto que os detalhes são perdidos. Tal redução (mais que 10$\\times$) do conjunto de dados pode ajudar a acelerar o algoritmo de aprendizado de maneira expressiva sem perder qualidade de predição."
   ]
  },
  {
   "cell_type": "code",
   "execution_count": null,
   "metadata": {},
   "outputs": [],
   "source": [
    "# exibe as imagens originais e as imagens reconstruídas após a aplicação do PCA\n",
    "K2 = 100\n",
    "X2_rec  = reconstruirDados(Z2, U2, K2)\n",
    "\n",
    "print('Imagens originais:')\n",
    "visualizaImagem(X2[1:100,:])\n",
    "plt.show()\n",
    "\n",
    "print('Imagens reconstruídas:')\n",
    "visualizaImagem(X2_rec[1:100,:])\n",
    "plt.show()"
   ]
  },
  {
   "cell_type": "code",
   "execution_count": null,
   "metadata": {},
   "outputs": [],
   "source": []
  }
 ],
 "metadata": {
  "kernelspec": {
   "display_name": "Python 3",
   "language": "python",
   "name": "python3"
  },
  "language_info": {
   "codemirror_mode": {
    "name": "ipython",
    "version": 3
   },
   "file_extension": ".py",
   "mimetype": "text/x-python",
   "name": "python",
   "nbconvert_exporter": "python",
   "pygments_lexer": "ipython3",
   "version": "3.6.7"
  }
 },
 "nbformat": 4,
 "nbformat_minor": 2
}
