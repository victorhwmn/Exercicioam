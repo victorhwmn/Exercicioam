{
 "cells": [
  {
   "cell_type": "markdown",
   "metadata": {},
   "source": [
    "# <center> <img src=\"figs/LogoUFSCar.jpg\" alt=\"Logo UFScar\" width=\"110\" align=\"left\"/>  <br/> <center>Universidade Federal de São Carlos (UFSCar)<br/><font size=\"4\"> Departamento de Computação, campus Sorocaba</center></font>\n",
    "</p>\n",
    "\n",
    "<br/>\n",
    "<font size=\"4\"><center><b>Disciplina: Aprendizado de Máquina</b></center></font>\n",
    "  \n",
    "<font size=\"3\"><center>Prof. Dr. Tiago A. Almeida</center></font>\n",
    "\n",
    "<br/>\n",
    "<center><i><b>\n",
    "Atenção: não são autorizadas cópias, divulgações ou qualquer tipo de uso deste material sem o consentimento prévio dos autores.\n",
    "</center></i></b>\n",
    "<br/>"
   ]
  },
  {
   "cell_type": "markdown",
   "metadata": {},
   "source": [
    "# <center>Exercício - Naive Bayes</center>\n",
    "\n",
    "Neste exercício, você implementará o método Naive Bayes e verá como ele utiliza os dados para fazer classificações de amostras não vistas. Antes de começar este exercício, é recomendável que você revise os conceitos apresentados em aula.\n",
    "\n",
    "### Descrição do problema\n",
    "Rodonildo é um jogador nato de *League of Legends*, um jogo de estratégia que envolve a batalha entre dois times (para maiores detalhes, consulte http://br.leagueoflegends.com/), e esteve coletando dados nas partidas em que jogou. O objetivo de Rodonildo é prever o vencedor de uma determinada batalha a partir de algumas informações. Na coleta de dados que Rodonildo fez, ele utilizou amostras compostas pelos 5 atributos binários (*1 = sim* e *0 = não*) a seguir:\n",
    "\n",
    "1. *primeiroAbate*: indica se a primeira morte do jogo foi realizada pelo time de Rodonildo;\n",
    "2. *primeiraTorre*: indica se a primeira torre destruída do jogo foi derrubada pelo time de Rodonildo (Figura 1a);\n",
    "3. *primeiroInibidor*: indica se o primeiro inibidor destruído do jogo foi derrubado pelo time de Rodonildo (Figura 1b);\n",
    "4. *primeiroDragao*: indica se o personagem Dragão foi abatido primeiro pelo time de Rodonildo (Figura 1c);\n",
    "4. *primeiroBaron*: indica se o personagem Baron foi abatido primeiro pelo time de Rodonildo (Figura 1d).\n",
    "\n",
    "<div style=\"display:inline-block;\">\n",
    "    <div>\n",
    "    <div style=\"padding: 5px; float: left;\">\n",
    "        <img src=\"figs/turret.png\" style=\"height:180px;\"/>\n",
    "        <center><em>(a) Torre</em></center>\n",
    "    </div>\n",
    "    <div style=\"padding: 5px; float: left;\">\n",
    "        <img src=\"figs/inhibitor.png\"  style=\"height:180px;\"/> \n",
    "        <center><em>(b) Inibidor</em></center>\n",
    "    </div>\n",
    "    <div style=\"padding: 5px; float: left;\">\n",
    "        <img src=\"figs/dragon.png\"  style=\"height:180px;\"/>\n",
    "        <center><em>(c) Dragão</em></center>\n",
    "    </div>\n",
    "    <div style=\"padding: 5px; float: left;\">\n",
    "        <img src=\"figs/baron.png\"  style=\"height:180px;\"/>\n",
    "        <center><em>(d) Baron</em></center>\n",
    "    </div>\n",
    "    </div>\n",
    "    <center><em>Figura 1. Objetos e Criaturas de League of Legends.</em></center>\n",
    "</div> \n",
    "\n",
    "Por exemplo, a amostra $x = [0, 0, 1, 1, 0]$ e $y = 0$  representa um jogo no qual o time de Rodonildo destruiu primeiro um inibidor inimigo e derrotou o dragão antes da equipe inimiga. Por sua vez, a equipe adversária fez o primeiro abate do jogo, destruiu a primeira torre e derrotou o Baron. Essa partida foi vencida pela equipe adversária.\n",
    "\n",
    "Após longo período de coleta de dados, Rodonildo precisa da sua ajuda para prever o resultado de outras partidas utilizando as informações armazenadas. A sua função é implementar o classificador Naive Bayes para predizer qual será o resultado das próximas partidas de Rodonildo, condicionado aos valores dos atributos.\n",
    "\n",
    "Instruções\n",
    "----------\n",
    "\n",
    "Este arquivo contém o código que auxiliará no desenvolvimento do exercício. Você precisará completar as seguintes funções:\n",
    "\n",
    "* calculaProbabilidade()\n",
    "* classificacao()\n",
    "\n",
    "Você não poderá criar nenhuma outra função. Apenas altere as rotinas fornecidas."
   ]
  },
  {
   "cell_type": "markdown",
   "metadata": {},
   "source": [
    "## Parte 1: Calcular as probabilidades\n",
    "\n",
    "Nesta etapa, você precisará implementar a função *calcularProbabilidades()*. Esta função retornará os vetores com as probabilidades de cada atributo para as classes."
   ]
  },
  {
   "cell_type": "markdown",
   "metadata": {},
   "source": [
    "Primeiro, vamos carregar a base de dados com as partidas jogadas pelo Rodonildo."
   ]
  },
  {
   "cell_type": "code",
   "execution_count": 1,
   "metadata": {},
   "outputs": [
    {
     "name": "stdout",
     "output_type": "stream",
     "text": [
      "Dados carregados com sucesso!\n"
     ]
    }
   ],
   "source": [
    "# -*- coding: utf-8 -*-\n",
    "\n",
    "import numpy as np #importa a biblioteca usada para trabalhar com vetores de matrizes\n",
    "import pandas as pd #importa a biblioteca usada para trabalhar com dataframes (dados em formato de tabela) e análise de dados\n",
    "\n",
    "# Importa o arquivo e guarda em um dataframe do Pandas\n",
    "df_dataset = pd.read_csv( 'dados.csv', sep=',', index_col=None)\n",
    "\n",
    "print('Dados carregados com sucesso!')"
   ]
  },
  {
   "cell_type": "markdown",
   "metadata": {},
   "source": [
    "Agora, vamos dar uma olhada nas 6 primeiras amostras da base de dados."
   ]
  },
  {
   "cell_type": "code",
   "execution_count": 2,
   "metadata": {},
   "outputs": [
    {
     "data": {
      "text/html": [
       "<div>\n",
       "<style scoped>\n",
       "    .dataframe tbody tr th:only-of-type {\n",
       "        vertical-align: middle;\n",
       "    }\n",
       "\n",
       "    .dataframe tbody tr th {\n",
       "        vertical-align: top;\n",
       "    }\n",
       "\n",
       "    .dataframe thead th {\n",
       "        text-align: right;\n",
       "    }\n",
       "</style>\n",
       "<table border=\"1\" class=\"dataframe\">\n",
       "  <thead>\n",
       "    <tr style=\"text-align: right;\">\n",
       "      <th></th>\n",
       "      <th>primAbate</th>\n",
       "      <th>primTorre</th>\n",
       "      <th>primInibidor</th>\n",
       "      <th>primDragao</th>\n",
       "      <th>primBaron</th>\n",
       "      <th>Classe</th>\n",
       "    </tr>\n",
       "  </thead>\n",
       "  <tbody>\n",
       "    <tr>\n",
       "      <th>0</th>\n",
       "      <td>0</td>\n",
       "      <td>0</td>\n",
       "      <td>1</td>\n",
       "      <td>1</td>\n",
       "      <td>0</td>\n",
       "      <td>0</td>\n",
       "    </tr>\n",
       "    <tr>\n",
       "      <th>1</th>\n",
       "      <td>0</td>\n",
       "      <td>1</td>\n",
       "      <td>1</td>\n",
       "      <td>0</td>\n",
       "      <td>1</td>\n",
       "      <td>1</td>\n",
       "    </tr>\n",
       "    <tr>\n",
       "      <th>2</th>\n",
       "      <td>1</td>\n",
       "      <td>1</td>\n",
       "      <td>1</td>\n",
       "      <td>0</td>\n",
       "      <td>0</td>\n",
       "      <td>1</td>\n",
       "    </tr>\n",
       "    <tr>\n",
       "      <th>3</th>\n",
       "      <td>0</td>\n",
       "      <td>0</td>\n",
       "      <td>0</td>\n",
       "      <td>0</td>\n",
       "      <td>0</td>\n",
       "      <td>0</td>\n",
       "    </tr>\n",
       "    <tr>\n",
       "      <th>4</th>\n",
       "      <td>1</td>\n",
       "      <td>1</td>\n",
       "      <td>1</td>\n",
       "      <td>0</td>\n",
       "      <td>1</td>\n",
       "      <td>1</td>\n",
       "    </tr>\n",
       "    <tr>\n",
       "      <th>5</th>\n",
       "      <td>0</td>\n",
       "      <td>1</td>\n",
       "      <td>1</td>\n",
       "      <td>1</td>\n",
       "      <td>0</td>\n",
       "      <td>1</td>\n",
       "    </tr>\n",
       "  </tbody>\n",
       "</table>\n",
       "</div>"
      ],
      "text/plain": [
       "   primAbate  primTorre  primInibidor  primDragao  primBaron  Classe\n",
       "0          0          0             1           1          0       0\n",
       "1          0          1             1           0          1       1\n",
       "2          1          1             1           0          0       1\n",
       "3          0          0             0           0          0       0\n",
       "4          1          1             1           0          1       1\n",
       "5          0          1             1           1          0       1"
      ]
     },
     "metadata": {},
     "output_type": "display_data"
    }
   ],
   "source": [
    "# vamos usar a função display para imprimir o dataframe, pois deixa mais bonito. \n",
    "# Mas, também poderíamos ter usado a função print: print(df_dataset.head(n=6))\n",
    "display(df_dataset.head(n=6))"
   ]
  },
  {
   "cell_type": "markdown",
   "metadata": {},
   "source": [
    "Vamos guardar os dados dentro de uma matriz e as classes dentro de um vetor."
   ]
  },
  {
   "cell_type": "code",
   "execution_count": 3,
   "metadata": {},
   "outputs": [
    {
     "data": {
      "text/plain": [
       "'X:'"
      ]
     },
     "metadata": {},
     "output_type": "display_data"
    },
    {
     "data": {
      "text/plain": [
       "array([[0, 0, 1, 1, 0],\n",
       "       [0, 1, 1, 0, 1],\n",
       "       [1, 1, 1, 0, 0],\n",
       "       [0, 0, 0, 0, 0],\n",
       "       [1, 1, 1, 0, 1]])"
      ]
     },
     "metadata": {},
     "output_type": "display_data"
    },
    {
     "name": "stdout",
     "output_type": "stream",
     "text": [
      "Y: [0 1 1 0 1]\n"
     ]
    }
   ],
   "source": [
    "# pega os valores das n-1 primeiras colunas e guarda em uma matrix X\n",
    "X = df_dataset.iloc[:, 0:-1].values \n",
    "\n",
    "# pega os valores da última coluna e guarda em um vetor Y\n",
    "Y = df_dataset.iloc[:, -1].values \n",
    "\n",
    "# imprime as 5 primeiras linhas da matriz X\n",
    "display('X:', X[0:5,:])\n",
    "\n",
    "# imprime os 5 primeiros valores de Y\n",
    "print('Y:', Y[0:5])"
   ]
  },
  {
   "cell_type": "markdown",
   "metadata": {},
   "source": [
    "Vamos calcular qual a probabilidade de ocorrência de cada classe."
   ]
  },
  {
   "cell_type": "code",
   "execution_count": 4,
   "metadata": {},
   "outputs": [
    {
     "name": "stdout",
     "output_type": "stream",
     "text": [
      "Probabilidade da classe ser 1 (vitória): 54.00%\n",
      "Probabilidade da classe ser 0 (derrota): 46.00%\n"
     ]
    }
   ],
   "source": [
    "# Probabilidade das Classes\n",
    "pVitoria = sum(Y==1)/len(Y) \n",
    "pDerrota = sum(Y==0)/len(Y)\n",
    "\n",
    "print('Probabilidade da classe ser 1 (vitória): %1.2f%%' %(pVitoria*100))\n",
    "print('Probabilidade da classe ser 0 (derrota): %1.2f%%' %(pDerrota*100))"
   ]
  },
  {
   "cell_type": "markdown",
   "metadata": {},
   "source": [
    "Agora, crie a função que irá calcular as probabilidades de ocorrência de cada atributo em cada classe."
   ]
  },
  {
   "cell_type": "code",
   "execution_count": 5,
   "metadata": {},
   "outputs": [
    {
     "name": "stdout",
     "output_type": "stream",
     "text": [
      "A probabilidade esperada para P(PrimeiroAbate=1|Classe=1) = 52.96%\n",
      "\n",
      "Essa mesma probabilidade calculada no seu codigo foi = 52.96%\n"
     ]
    }
   ],
   "source": [
    "def calcularProbabilidades(X, Y):\n",
    "    \"\"\"\n",
    "    CALCULARPROBABILIDADES Computa a probabilidade de ocorrencia de cada \n",
    "    atributo por rotulo possivel. A funcao retorna dois vetores de tamanho n\n",
    "    (qtde de atributos), um para cada classe.\n",
    "    \n",
    "    CALCULARPROBABILIDADES(X, Y) calcula a probabilidade de ocorrencia de cada atributo em cada classe. \n",
    "    Cada vetor de saida tem dimensao (n x 1), sendo n a quantidade de atributos por amostra.\n",
    "    \"\"\"\n",
    "    \n",
    "    #  inicializa os vetores de probabilidades\n",
    "    pAtrVitoria = np.zeros(X.shape[1])\n",
    "    pAtrDerrota = np.zeros(X.shape[1])\n",
    "   ########################## COMPLETE O CÓDIGO AQUI  ########################\n",
    "    #  Instrucoes: Complete o codigo para encontrar a probabilidade de\n",
    "    #                ocorrencia de um atributo para uma determinada classe.\n",
    "    #                Ex.: para a classe 1 (vitoria), devera ser computada um\n",
    "    #                vetor pAtrVitoria (n x 1) contendo n valores:\n",
    "    #                P(Atributo1=1|Classe=1), ..., P(Atributo5=1|Classe=1), e o\n",
    "    #                mesmo para a classe 0 (derrota):\n",
    "    #                P(Atributo1=1|Classe=0), ..., P(Atributo5=1|Classe=0).\n",
    "    # \n",
    "    \n",
    "    #TX = X.transpose()\n",
    "    #print(TX.sum(axis = 1))\n",
    "    \n",
    "    #print(X.sum(axis = 0))\n",
    "    #print(X.shape[0])\n",
    "    \n",
    "    \n",
    "    #PA = X.sum(axis = 0)/X.shape[0]\n",
    "    #PC1 = Y.sum()/Y.size\n",
    "    #PC0 = 1 - PC1\n",
    "\n",
    "    #print(PA)\n",
    "    #print(PC1A)\n",
    "    #print(PC1)\n",
    "    #pAtrVitoria = (PC1A * PA)/PC1\n",
    "    #pAtrDerrota = (PC0A * PA)/PC0\n",
    "    \n",
    "    pAtrVitoria = (X.T * Y).sum(axis = 1)/(Y.sum())\n",
    "    pAtrDerrota = (X.T * (1 - Y)).sum(axis = 1)/(Y.size - Y.sum())\n",
    "          \n",
    "   # print(pAtrVitoria)\n",
    "    #print(pAtrDerrota)\n",
    "    \n",
    "    \n",
    "    \n",
    "    \n",
    "    \n",
    "    \n",
    "    \n",
    "    \n",
    "    \n",
    "    \n",
    "    \n",
    "    \n",
    "    ##########################################################################\n",
    "\n",
    "    return pAtrVitoria, pAtrDerrota\n",
    "\n",
    "pAtrVitoria, pAtrDerrota = calcularProbabilidades(X,Y)\n",
    "\n",
    "print('A probabilidade esperada para P(PrimeiroAbate=1|Classe=1) = %.2f%%' %52.96)\n",
    "print('\\nEssa mesma probabilidade calculada no seu codigo foi = %.2f%%' %(pAtrVitoria[0]*100))"
   ]
  },
  {
   "cell_type": "markdown",
   "metadata": {},
   "source": [
    "## Parte 2: Classificação da própria base usando o método Naive Bayes\n",
    "\n",
    "Nesta etapa, é realizada a classificação das amostras com base nas probabilidades encontradas no passo anterior. A classificação é realizada verificando se a amostra em questão tem maior probabilidade de pertencer à classe 1 ou à classe 0. Para calcular a probabilidade de uma amostra pertencer a uma determinada classe, é necessário utilizar as probabilidades de ocorrências de atributos previamente computadas. O cálculo pode ser expresso como:\n",
    "\n",
    "$$ P(y_j|\\vec{x}) = \\hat{P}(y_{j}) \\prod_{x_i \\in \\vec{x}} \\hat{P}(x_{i} | y_{j}) $$\n",
    "\n",
    "Portanto, a probabilidade de uma amostra $\\vec{x}$ pertencer a uma classe $j$ é obtida a partir da probabilidade geral da classe $j$ ($\\hat{P}(y_{j})$) multiplicada pelo produtório da probabilidade de ocorrência de cada atributo $x_i$ com relação a classe $j$ ($\\hat{P}(x_{i} | y_{j})$).\n",
    "\n",
    "Se a rotina de classificação estiver correta, espera-se que a acurácia obtida ao classificar a própria base de amostras de jogos que Ronildo participou seja aproximadamente 76,60%. \n",
    "\n",
    "Você deverá completar a função **Classificacao()**."
   ]
  },
  {
   "cell_type": "code",
   "execution_count": 6,
   "metadata": {},
   "outputs": [
    {
     "name": "stdout",
     "output_type": "stream",
     "text": [
      "\n",
      "\n",
      "Acuracia esperada para essa base = 76.60%\n",
      "\n",
      "Acuracia obtida pelo seu classificador foi = 76.60%\n",
      "\n"
     ]
    }
   ],
   "source": [
    "def classificacao(x,pVitoria,pDerrota,pAtrVitoria,pAtrDerrota):\n",
    "    \"\"\"\n",
    "    Classifica se a entrada x pertence a classe 0 ou 1 usando\n",
    "    as probabilidades extraidas da base de treinamento. Essa funcao \n",
    "    estima a predicao de x atraves da maior probabilidade da amostra  \n",
    "    pertencer a classe 1 ou 0. Tambem retorna as probabilidades condicionais\n",
    "    de vitoria e derrota, respectivamente.\n",
    "    \n",
    "    \"\"\"\n",
    "\n",
    "    #  inicializa a classe e as probabilidades condicionais\n",
    "    classe = 0;\n",
    "    probVitoria= 0;\n",
    "    probDerrota = 0;\n",
    "\n",
    "    ########################## COMPLETE O CÓDIGO AQUI  ########################\n",
    "    #  Instrucoes: Complete o codigo para estimar a classificacao da amostra\n",
    "    #                usando as probabilidades extraidas da base de treinamento.\n",
    "    #                Voce precisara encontrar as probabilidades Bayesianas \n",
    "    #                probVitoria p(classe=1|x) e probDerrota p(classe=0|x) e\n",
    "    #                selecionar a maior.\n",
    "    # \n",
    "\n",
    "\n",
    "    \n",
    "    probVitoria = pVitoria * np.prod((pAtrVitoria * x) - ((1-pAtrVitoria) * (x-1)))\n",
    "    probDerrota = np.prod((pAtrDerrota * x) - ((1-pAtrDerrota) * (x-1))) * pDerrota\n",
    "    \n",
    "    \n",
    "    \n",
    "    \n",
    "    #print(pAtrVitoria * x)\n",
    "    #print(probDerrota)\n",
    "    \n",
    "    if probVitoria.max() >= probDerrota.max() :\n",
    "        classe = 1\n",
    "    \n",
    "    \n",
    "    \n",
    "    \n",
    "    \n",
    "    \n",
    "    \n",
    "    \n",
    "    \n",
    "\n",
    "    ########################################################################## \n",
    "\n",
    "    return classe, probVitoria, probDerrota \n",
    "\n",
    "resultados = np.zeros( X.shape[0] )\n",
    "\n",
    "for i in range(X.shape[0]):\n",
    "    resultados[i], probVitoria, probDerrota = classificacao( X[i,:],pVitoria,pDerrota,pAtrVitoria,pAtrDerrota )\n",
    "\n",
    "# calcular acuracia\n",
    "acuracia = np.sum(resultados==Y)/len(Y)\n",
    "\n",
    "print('\\n\\nAcuracia esperada para essa base = %.2f%%\\n' %76.60);\n",
    "print('Acuracia obtida pelo seu classificador foi = %.2f%%\\n' %( acuracia*100 ) )"
   ]
  },
  {
   "cell_type": "markdown",
   "metadata": {},
   "source": [
    "## Parte 3: Predizendo a classe de novos dados\n",
    "\n",
    "Já que toda a etapa de treinamento e classificação está concluída, o último passo é permitir que novas amostras sejam classificadas. "
   ]
  },
  {
   "cell_type": "code",
   "execution_count": 16,
   "metadata": {},
   "outputs": [
    {
     "name": "stdout",
     "output_type": "stream",
     "text": [
      "\n",
      ">>> Predicao = Derrota!\n",
      "\n",
      ">>>>>> Prob. vitoria = 0.006996!\n",
      "\n",
      ">>>>>> Prob. derrota = 0.024279!\n",
      "\n",
      "\n"
     ]
    }
   ],
   "source": [
    "x1_novo = np.array([0,1,0,0,0])\n",
    "\n",
    "classe, probVitoria, probDerrota = classificacao( x1_novo,pVitoria,pDerrota,pAtrVitoria,pAtrDerrota )\n",
    "\n",
    "if classe ==1:\n",
    "    print('\\n>>> Predicao = Vitoria!')       \n",
    "else:\n",
    "    print('\\n>>> Predicao = Derrota!')\n",
    "\n",
    "print('\\n>>>>>> Prob. vitoria = %0.6f!' %(probVitoria))\n",
    "print('\\n>>>>>> Prob. derrota = %0.6f!\\n\\n'  %(probDerrota))"
   ]
  },
  {
   "cell_type": "code",
   "execution_count": null,
   "metadata": {},
   "outputs": [],
   "source": []
  }
 ],
 "metadata": {
  "kernelspec": {
   "display_name": "Python 3",
   "language": "python",
   "name": "python3"
  },
  "language_info": {
   "codemirror_mode": {
    "name": "ipython",
    "version": 3
   },
   "file_extension": ".py",
   "mimetype": "text/x-python",
   "name": "python",
   "nbconvert_exporter": "python",
   "pygments_lexer": "ipython3",
   "version": "3.7.1"
  }
 },
 "nbformat": 4,
 "nbformat_minor": 2
}
