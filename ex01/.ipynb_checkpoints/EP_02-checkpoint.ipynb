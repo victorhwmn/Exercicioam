{
 "cells": [
  {
   "cell_type": "markdown",
   "metadata": {},
   "source": [
    "# <center> <img src=\"http://www.ccs.ufscar.br/arquivos/logotipo-ufscar-jpg\" alt=\"Drawing\" style=\"width: 90px;\" align=\"left\"/>  <br/> Universidade Federal de São Carlos - UFSCar, Sorocaba </center>\n",
    "\n",
    "<br/>\n",
    "<center>**Disciplina**: Introdução a sistemas inteligentes</center>\n",
    "<br/>\n",
    "\n",
    "<center>**Prof. Renato Moraes Silva**</center>\n",
    "<center>*flarenatms@yahoo.com.br*</center>\n",
    "\n",
    "<br/>\n",
    "<br/>\n",
    "<br/>"
   ]
  },
  {
   "cell_type": "markdown",
   "metadata": {},
   "source": [
    "# Visualização de dados"
   ]
  },
  {
   "cell_type": "markdown",
   "metadata": {},
   "source": [
    "Muitas vezes a visualização dos dados auxilia na interpretação deles e na análise de como eles estão distribuídos.\n",
    "\n",
    "O Python possui algumas bibliotecas que facilitam o processo de visualização dos dados, tais como: Pandas, Matplotlib e Seaborn."
   ]
  },
  {
   "cell_type": "markdown",
   "metadata": {},
   "source": [
    "Primeiro vamos carregar os dados do arquivo."
   ]
  },
  {
   "cell_type": "code",
   "execution_count": null,
   "metadata": {},
   "outputs": [],
   "source": [
    "import numpy as np #importa a biblioteca usada para trabalhar com vetores de matrizes\n",
    "import pandas as pd #importa a biblioteca usada para trabalhar com dataframes (dados em formato de tabela) e análise de dados\n",
    "\n",
    "# importa o arquivo e guarda em um dataframe do Pandas\n",
    "df_dataset = pd.read_csv( 'iris.csv', sep=',', index_col=None) "
   ]
  },
  {
   "cell_type": "markdown",
   "metadata": {},
   "source": [
    "Agora vamos dar uma olhada nas 5 primeiras amostras da base de dados"
   ]
  },
  {
   "cell_type": "code",
   "execution_count": null,
   "metadata": {},
   "outputs": [],
   "source": [
    "# vamos usar a função display para imprimir o dataframe, pois deixa mais bonito. \n",
    "# Mas, também poderíamos ter usado a função print: print(df_dataset.head(n=6))\n",
    "display(df_dataset.head(n=6))"
   ]
  },
  {
   "cell_type": "markdown",
   "metadata": {},
   "source": [
    "Agora vamos ver algumas estatísticas sobre a base de dados.\n",
    "\n",
    "A função _describe()_ da Pandas sumariza as principais estatísticas sobre os dados de uma data frame, como a média, o desvio padrão, valor máximo, valor mínimo e alguns percentis."
   ]
  },
  {
   "cell_type": "code",
   "execution_count": null,
   "metadata": {},
   "outputs": [],
   "source": [
    "# apresenta as principais estatísticas sobre a base de dados\n",
    "df_detalhes = df_dataset.describe()\n",
    "\n",
    "display(df_detalhes)"
   ]
  },
  {
   "cell_type": "markdown",
   "metadata": {},
   "source": [
    "Agora, vamos verificar as informações sobre a coluna Classe."
   ]
  },
  {
   "cell_type": "code",
   "execution_count": null,
   "metadata": {},
   "outputs": [],
   "source": [
    "df_detalhesClasses = df_dataset['classe'].describe()\n",
    "\n",
    "display(df_detalhesClasses)\n",
    "\n",
    "# encontra as classes do problema\n",
    "classes = df_dataset['classe'].unique()\n",
    "print('\\nClasses do problema: ', classes)\n",
    "\n",
    "# conta a quantidade de dados em cada classe\n",
    "for classe in classes:\n",
    "    df_classe = df_dataset[ df_dataset['classe']==classe]\n",
    "    \n",
    "    print('Qtd. de dados da classe %s: %d' %(classe, df_classe.count().values[0]))"
   ]
  },
  {
   "cell_type": "markdown",
   "metadata": {},
   "source": [
    "Para criar um box plot sobre a base de dados, podemos usar a função _boxplot_ da Pandas."
   ]
  },
  {
   "cell_type": "code",
   "execution_count": null,
   "metadata": {},
   "outputs": [],
   "source": [
    "# apresenta as principais estatísticas sobre a base de dados\n",
    "df_dataset.boxplot(figsize=(15,7))"
   ]
  },
  {
   "cell_type": "markdown",
   "metadata": {},
   "source": [
    "Podemos plotar gráficos de dispersão de todas as combinações de atributos da base de dados usando a função *scatter_matrix* do Pandas."
   ]
  },
  {
   "cell_type": "code",
   "execution_count": null,
   "metadata": {},
   "outputs": [],
   "source": [
    "pd.plotting.scatter_matrix(df_dataset, figsize=(18,18))\n",
    "\n",
    "import matplotlib.pyplot as plt\n",
    "plt.show()"
   ]
  },
  {
   "cell_type": "markdown",
   "metadata": {},
   "source": [
    "Outra forma de plotar gráficos a partir dos data frames é usando a biblioteca Seaborn. Juntamente com essa biblioteca, também é recomendável importar a biblioteca Matplotlib. Dessa forma, podemos personalizar o gráfico criados pela biblioteca Usando funções da biblioteca Matplotlib. "
   ]
  },
  {
   "cell_type": "code",
   "execution_count": null,
   "metadata": {},
   "outputs": [],
   "source": [
    "import seaborn as sns\n",
    "import matplotlib.pyplot as plt\n",
    "\n",
    "# matriz de gráficos scatter \n",
    "sns.pairplot(df_dataset, hue='classe', size=3.5);\n",
    "\n",
    "# mostra o gráfico usando a função show() da matplotlib\n",
    "plt.show()"
   ]
  },
  {
   "cell_type": "markdown",
   "metadata": {},
   "source": [
    "Se você preferir visualizar o gráfico de dispersão de apenas uma combinação de atributos, você pode usar a função lmplot da biblioteca Searborn."
   ]
  },
  {
   "cell_type": "code",
   "execution_count": null,
   "metadata": {},
   "outputs": [],
   "source": [
    "#scatter plot\n",
    "sns.lmplot(x='comprimento_sepala', y='largura_petala', data=df_dataset, \n",
    "           fit_reg=False, # No regression line\n",
    "           hue='classe')   # Color by evolution stage\n",
    "\n",
    "# cria um título para o gráfico\n",
    "plt.title('Comprimento vs largura da sépala.')\n",
    "\n",
    "# mostra o gráfico\n",
    "plt.show()"
   ]
  },
  {
   "cell_type": "markdown",
   "metadata": {},
   "source": [
    "A bilioteca Seaborn permite criar gráficos boxplot agrupados por um determinado atributo, o que facilita a análise dos dados. No exemplo abaixo, estamos criando gráficos boxplot sobre o atributo comprimento da sépala agrupado pela classe."
   ]
  },
  {
   "cell_type": "code",
   "execution_count": null,
   "metadata": {},
   "outputs": [],
   "source": [
    "# define a dimensão do gráfico\n",
    "plt.figure(figsize=(10,7))\n",
    "\n",
    "# cria o boxplot\n",
    "sns.boxplot(x=\"classe\", y=\"comprimento_sepala\", data=df_dataset, whis=1.5)\n",
    "\n",
    "#mostra o gráfico\n",
    "plt.show()"
   ]
  },
  {
   "cell_type": "markdown",
   "metadata": {},
   "source": [
    "Podemos também criar uma gráfico de barra indicando quantos dados de cada classe há na base de dados."
   ]
  },
  {
   "cell_type": "code",
   "execution_count": null,
   "metadata": {},
   "outputs": [],
   "source": [
    "# cria um gráfico de barras com a frequência de cada classe\n",
    "sns.countplot(x=\"classe\", data=df_dataset)\n",
    "\n",
    "#mostra o gráfico\n",
    "plt.show()"
   ]
  },
  {
   "cell_type": "markdown",
   "metadata": {},
   "source": [
    "Vamos criar gráficos de barra vertical e horizontal mostrando a média e o desvio padrão dos dados."
   ]
  },
  {
   "cell_type": "code",
   "execution_count": null,
   "metadata": {},
   "outputs": [],
   "source": [
    "mean = df_dataset.mean()\n",
    "\n",
    "std = df_dataset.std()\n",
    "\n",
    "# criando um gráfico de barras vertical\n",
    "plt.figure(figsize=(10,5))\n",
    "mean.plot(kind=\"bar\", rot=0, color=\"red\", fontsize=13, yerr=std);\n",
    "plt.show()\n",
    "\n",
    "# criando um gráfico de barras horizontal\n",
    "plt.figure(figsize=(10,5))\n",
    "mean.plot(kind=\"barh\", rot=0, color=\"red\", fontsize=13, xerr=std);\n",
    "plt.show()\n"
   ]
  },
  {
   "cell_type": "markdown",
   "metadata": {},
   "source": [
    "Vamos ver agora como criar histrogramas usando a biblioteca matplotlib."
   ]
  },
  {
   "cell_type": "code",
   "execution_count": null,
   "metadata": {},
   "outputs": [],
   "source": [
    "# cria o histograma\n",
    "n, bins, patches = plt.hist(df_dataset['comprimento_petala'].values,bins=10, color='red', edgecolor='black', linewidth=0.9)\n",
    "\n",
    "#mostra o gráfico\n",
    "plt.show()\n",
    "\n",
    "# imprime as cestas de valores\n",
    "print(bins)"
   ]
  },
  {
   "cell_type": "markdown",
   "metadata": {},
   "source": [
    "O gráfico de densidade pode ser utilizado para substituir o histograma."
   ]
  },
  {
   "cell_type": "code",
   "execution_count": null,
   "metadata": {},
   "outputs": [],
   "source": [
    "# criando o gráfico de densidade \n",
    "densityplot = df_dataset.plot(kind='density')\n",
    "\n",
    "# mostra o gráfico\n",
    "plt.show()\n",
    "\n",
    "# criando o gráfico de densidade apenas do atributo comprimento_petala\n",
    "densityplot = df_dataset['comprimento_petala'].plot(kind='density')\n",
    "\n",
    "# mostra o gráfico\n",
    "plt.show()"
   ]
  },
  {
   "cell_type": "markdown",
   "metadata": {},
   "source": [
    "Vamos calcular as matrizes de correlação e covariância.\n",
    "\n",
    "Podemos fazer isso usando a biblioteca Numpy ou a Pandas.\n",
    "\n",
    "Primeiro vamos fazer usando a Numpy."
   ]
  },
  {
   "cell_type": "code",
   "execution_count": null,
   "metadata": {},
   "outputs": [],
   "source": [
    "# criando uma matriz X com os valores do data frame\n",
    "X = df_dataset.iloc[:,:-1].values\n",
    "\n",
    "# matriz de covariancia\n",
    "covariance = np.cov(X, rowvar=False)\n",
    "\n",
    "# matriz de correlação\n",
    "correlation = np.corrcoef(X, rowvar=False)\n",
    "\n",
    "print('Matriz de covariância: ')\n",
    "display(covariance)\n",
    "\n",
    "print('\\n\\nMatriz de correlação: ')\n",
    "display(correlation)"
   ]
  },
  {
   "cell_type": "markdown",
   "metadata": {},
   "source": [
    "Agora vamos calcular as matrizes de correlação e covariância usando a Pandas."
   ]
  },
  {
   "cell_type": "code",
   "execution_count": null,
   "metadata": {},
   "outputs": [],
   "source": [
    "# matriz de covariancia\n",
    "df_covariance = df_dataset.cov()\n",
    "\n",
    "# matriz de correlação\n",
    "df_correlation = df_dataset.corr()\n",
    "\n",
    "print('Matriz de covariância: ')\n",
    "display(df_covariance)\n",
    "\n",
    "print('\\n\\nMatriz de correlação: ')\n",
    "display(df_correlation)"
   ]
  },
  {
   "cell_type": "markdown",
   "metadata": {},
   "source": [
    "Vamos plotar a matriz de covariância e a de correlação usando mapas de cores."
   ]
  },
  {
   "cell_type": "code",
   "execution_count": null,
   "metadata": {},
   "outputs": [],
   "source": [
    "# cria um mapa de cores dos valoes da covariancia\n",
    "sns.heatmap(df_covariance, \n",
    "        xticklabels=df_correlation.columns,\n",
    "        yticklabels=df_correlation.columns)\n",
    "\n",
    "plt.title('Covariância')\n",
    "plt.show()\n",
    "\n",
    "# cria um mapa de cores dos valoes da correlação\n",
    "sns.heatmap(df_correlation, \n",
    "        xticklabels=df_correlation.columns,\n",
    "        yticklabels=df_correlation.columns)\n",
    "\n",
    "plt.title('Correlação')\n",
    "plt.show()"
   ]
  },
  {
   "cell_type": "markdown",
   "metadata": {},
   "source": [
    "É importante notar que a alta correlação entre dois atributos não significa que um deles influencia no valor do outro. Veja alguns exemplos que mostram isso: http://www.tylervigen.com/spurious-correlations\n",
    "\n",
    "<img src=\"http://tylervigen.com/correlation_project/correlation_images/number-of-people-who-tripped-over-their-own-two-feet-and-died_number-of-lawyers-in-nevada.png\" width=\"800\" align=\"center\"/>\n",
    "\n",
    "<img src=\"http://tylervigen.com/correlation_project/correlation_images/works-of-visual-art-copyrighted-us_females-in-new-york-who-slipped-or-tripped-to-their-death.png\" width=\"800\" align=\"center\"/>\n"
   ]
  },
  {
   "cell_type": "markdown",
   "metadata": {},
   "source": [
    "## Exercícios "
   ]
  },
  {
   "cell_type": "markdown",
   "metadata": {},
   "source": [
    "Os exercícios deverão ser feitos com relação à base de dados importada abaixo."
   ]
  },
  {
   "cell_type": "code",
   "execution_count": null,
   "metadata": {},
   "outputs": [],
   "source": [
    "# importa o arquivo e guarda em um dataframe do Pandas\n",
    "df_dataset2 = pd.read_csv( 'data2.csv', sep=',', index_col=None) "
   ]
  },
  {
   "cell_type": "markdown",
   "metadata": {},
   "source": [
    "**Ex. 1.** Imprima as 7 primeiras amostras da nova base de dados (*df_dataset2*)."
   ]
  },
  {
   "cell_type": "code",
   "execution_count": null,
   "metadata": {},
   "outputs": [],
   "source": []
  },
  {
   "cell_type": "markdown",
   "metadata": {},
   "source": [
    "**Ex. 2.** Use a função *describe()* da biblioteca Pandas para visualizar a média, desvio padrão, valor máximo, valor mínimo e os percentis de cada atributo da base de dados."
   ]
  },
  {
   "cell_type": "code",
   "execution_count": null,
   "metadata": {},
   "outputs": [],
   "source": []
  },
  {
   "cell_type": "markdown",
   "metadata": {},
   "source": [
    "**Ex. 3**. Crie um histograma a partir dos valores do atributo **atributo_d**."
   ]
  },
  {
   "cell_type": "code",
   "execution_count": null,
   "metadata": {},
   "outputs": [],
   "source": []
  },
  {
   "cell_type": "markdown",
   "metadata": {},
   "source": [
    "**Ex. 4**. Crie um gráfico de dispersão que plote o atributo **atributo_a** no eixo x e o atributo **atributo_d** no eixo y. Crie o gráfico de dispersão usando a biblioteca Searborn para colorir os dados de acordo com a classe a que eles pertencem."
   ]
  },
  {
   "cell_type": "code",
   "execution_count": null,
   "metadata": {},
   "outputs": [],
   "source": []
  },
  {
   "cell_type": "markdown",
   "metadata": {},
   "source": [
    "**Ex. 5**. Apresente um gráfico de barras com o número de exemplos de cada classe da base de dados."
   ]
  },
  {
   "cell_type": "code",
   "execution_count": null,
   "metadata": {},
   "outputs": [],
   "source": []
  },
  {
   "cell_type": "markdown",
   "metadata": {},
   "source": [
    "**Ex. 6**. Crie um box plot com os dados do atributo."
   ]
  },
  {
   "cell_type": "code",
   "execution_count": null,
   "metadata": {},
   "outputs": [],
   "source": []
  },
  {
   "cell_type": "markdown",
   "metadata": {},
   "source": [
    "**Ex. 7.** Calcule e imprima a matriz de correlação entre os atributos da base de dados. \n",
    "\n",
    "Obs: você pode usar a função da biblioteca Pandas ou a função da biblioteca Numpy para fazer isso."
   ]
  },
  {
   "cell_type": "code",
   "execution_count": null,
   "metadata": {},
   "outputs": [],
   "source": []
  },
  {
   "cell_type": "markdown",
   "metadata": {},
   "source": [
    "**Ex. 8**. Conforme foi mostrado em sala de aula, a covariância entre dois atributos pode ser calculada pela seguinte equação: \n",
    "\n",
    "$$\\text{covariância}(x^i, x^j) = \\frac{1}{n-1}  \\sum_{k=1}^n (x_{k}^{i} - \\bar{x}^i)(x_{k}^{j} - \\bar{x}^j).$$\n",
    "\n",
    "Crie uma função que calcule a covariância de dois atributos baseado na equação mostrada acima. \n",
    "\n",
    "**Obs.**: não é permitido usar a função de covariância da biblioteca NumPy ou da Pandas."
   ]
  },
  {
   "cell_type": "code",
   "execution_count": null,
   "metadata": {},
   "outputs": [],
   "source": [
    "def covariancia(atributo1, atributo2):\n",
    "    \"\"\"\n",
    "    Função usada para calcular a covariância entre dois vetores de atributos\n",
    "    \"\"\"    \n",
    "    \n",
    "    #inicializando a covariancia. Essa é a variável que deve ser retornada pela função\n",
    "    cov = 0 \n",
    "    \n",
    "    # número de objetos\n",
    "    n = len(atributo1)\n",
    "    \n",
    "    ################# COMPLETE O CÓDIGO AQUI  #################\n",
    "\n",
    "    \n",
    "    \n",
    "    \n",
    "    ##########################################################\n",
    "    \n",
    "    return cov\n",
    "\n",
    "atributo1 = df_dataset2['atributo_a'].values\n",
    "atributo2 = df_dataset2['atributo_b'].values\n",
    "\n",
    "print('Valor esperado: 4.405083')\n",
    "\n",
    "cov = covariancia(atributo1, atributo2)\n",
    "print('Valor retornado pela função: %1.6f' %cov)"
   ]
  },
  {
   "cell_type": "markdown",
   "metadata": {},
   "source": [
    "**Ex. 9**. Conforme foi mostrado em sala de aula, a correlação entre dois atributos pode ser calculada pela seguinte equação: $$\\text{correlação}(x^i, x^j) = \\frac{\\text{covariância}(x^i, x^j)}{\\text{desvio_padrão}(x^i) * \\text{desvio_padrão}(x^j)}$$\n",
    "\n",
    "Crie uma função que calcule a correlação de dois atributos baseado na equação mostrada acima. \n",
    "\n",
    "**Obs.**: não é permitido usar a função de covariância da biblioteca NumPy ou da Pandas."
   ]
  },
  {
   "cell_type": "code",
   "execution_count": null,
   "metadata": {},
   "outputs": [],
   "source": [
    "def correlacao(atributo1, atributo2):\n",
    "    \"\"\"\n",
    "    Função usada para calcular a correção entre dois vetores de atributos\n",
    "    \"\"\"\n",
    "    \n",
    "    #inicializando a covariancia. Essa é a variável que deve ser retornada pela função\n",
    "    corr = 0 \n",
    "    \n",
    "    # número de objetos\n",
    "    n = len(atributo1)\n",
    "    \n",
    "    ################# COMPLETE O CÓDIGO AQUI  #################\n",
    "    # Se você for usar a função do Numpy para calcular o desvio padrão,\n",
    "    # não se esqueça de usar o parâmetro ddof=1 para fazer a correção de Bessel\n",
    "    #\n",
    "    # Use a função que você criou no exercício anterior para calcular \n",
    "    # o valor da covariância que será usado para calcular a correlação\n",
    "\n",
    "    \n",
    "    ##########################################################\n",
    "    \n",
    "    return corr\n",
    "\n",
    "atributo1 = df_dataset2['atributo_a'].values\n",
    "atributo2 = df_dataset2['atributo_b'].values\n",
    "\n",
    "print('Valor esperado: 0.264026')\n",
    "\n",
    "corr = correlacao(atributo1, atributo2)\n",
    "print('Valor retornado pela função: %1.6f' %corr)"
   ]
  }
 ],
 "metadata": {
  "kernelspec": {
   "display_name": "Python 3",
   "language": "python",
   "name": "python3"
  },
  "language_info": {
   "codemirror_mode": {
    "name": "ipython",
    "version": 3
   },
   "file_extension": ".py",
   "mimetype": "text/x-python",
   "name": "python",
   "nbconvert_exporter": "python",
   "pygments_lexer": "ipython3",
   "version": "3.6.4"
  }
 },
 "nbformat": 4,
 "nbformat_minor": 2
}
